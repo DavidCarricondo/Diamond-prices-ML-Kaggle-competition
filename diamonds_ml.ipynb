{
 "cells": [
  {
   "cell_type": "markdown",
   "metadata": {},
   "source": [
    "# Lucy in the sky with diamonds "
   ]
  },
  {
   "cell_type": "markdown",
   "metadata": {},
   "source": [
    "## Imports"
   ]
  },
  {
   "cell_type": "code",
   "execution_count": 70,
   "metadata": {},
   "outputs": [],
   "source": [
    "import pandas as pd\n",
    "import numpy as np\n",
    "import seaborn as sns\n",
    "import matplotlib.pyplot as plt\n",
    "import src.Cleaning_functions as fn\n",
    "\n",
    "from sklearn.model_selection import train_test_split, GridSearchCV\n",
    "from sklearn.preprocessing import StandardScaler, Normalizer\n",
    "from sklearn.pipeline import make_pipeline\n",
    "\n",
    "from sklearn.linear_model import LinearRegression, Ridge, Lasso, ElasticNet, BayesianRidge\n",
    "from sklearn.metrics import mean_squared_error\n"
   ]
  },
  {
   "cell_type": "markdown",
   "metadata": {},
   "source": [
    "## Some info:\n",
    "\n",
    "**Carat**: Diamond **carat** weight measures how much a diamond weighs. All else being equal, diamond price increases with diamond **carat** weight because larger diamonds are rarer and more desirable. However, two diamonds of equal carat weight can have very different values (and prices) depending on three other factors of the diamond 4Cs: **Color**, **Clarity**, and **Cut**.\n",
    "   \n",
    " **Color**: D-to-Z diamond color-grading system measures the degree of colorlessness by comparing a stone. \n",
    "   \n",
    " **Cut**: Diamond’s cut grade is really about how well a diamond’s facets interact with light.\n",
    " \n",
    " **Clarity**: \n",
    "     + Flawless (FL) No inclusions and no blemishes visible under 10x magnification\n",
    "     + Internally Flawless (IF) No inclusions visible under 10x magnification\n",
    "     + Very, Very Slightly Included (VVS1 and VVS2) Inclusions so slight they are difficult for a skilled grader to see under 10x magnification\n",
    "     + Very Slightly Included (VS1 and VS2) Inclusions are observed with effort under 10x magnification, but can be characterized as minor\n",
    "     + Slightly Included (SI1 and SI2) Inclusions are noticeable under 10x magnification\n",
    "     + Included (I1, I2, and I3) Inclusions are obvious under 10x magnification which may affect transparency and brilliance\n",
    "     \n",
    "**x**: length in mm\n",
    "\n",
    "**y**: width in mm\n",
    "\n",
    "**z**: depth in mm\n",
    "\n",
    "**depth**: total depth percentage = z / mean(x, y) = 2 * z / (x + y) (43--79)\n",
    "\n",
    "**table**: width of top of diamond relative to widest point (43--95)\n",
    "\n",
    "*https://4cs.gia.edu/en-us/4cs-diamond-quality/*"
   ]
  },
  {
   "cell_type": "markdown",
   "metadata": {},
   "source": [
    "## Explore the data"
   ]
  },
  {
   "cell_type": "code",
   "execution_count": 84,
   "metadata": {},
   "outputs": [],
   "source": [
    "train = pd.read_csv('./INPUT/diamonds_train.csv') \n",
    "test = pd.read_csv('./INPUT/diamonds_test.csv')"
   ]
  },
  {
   "cell_type": "code",
   "execution_count": 85,
   "metadata": {},
   "outputs": [
    {
     "data": {
      "text/html": [
       "<div>\n",
       "<style scoped>\n",
       "    .dataframe tbody tr th:only-of-type {\n",
       "        vertical-align: middle;\n",
       "    }\n",
       "\n",
       "    .dataframe tbody tr th {\n",
       "        vertical-align: top;\n",
       "    }\n",
       "\n",
       "    .dataframe thead th {\n",
       "        text-align: right;\n",
       "    }\n",
       "</style>\n",
       "<table border=\"1\" class=\"dataframe\">\n",
       "  <thead>\n",
       "    <tr style=\"text-align: right;\">\n",
       "      <th></th>\n",
       "      <th>Unnamed: 0</th>\n",
       "      <th>carat</th>\n",
       "      <th>cut</th>\n",
       "      <th>color</th>\n",
       "      <th>clarity</th>\n",
       "      <th>depth</th>\n",
       "      <th>table</th>\n",
       "      <th>x</th>\n",
       "      <th>y</th>\n",
       "      <th>z</th>\n",
       "      <th>price</th>\n",
       "    </tr>\n",
       "  </thead>\n",
       "  <tbody>\n",
       "    <tr>\n",
       "      <th>0</th>\n",
       "      <td>0</td>\n",
       "      <td>1.21</td>\n",
       "      <td>Ideal</td>\n",
       "      <td>H</td>\n",
       "      <td>VS2</td>\n",
       "      <td>63.0</td>\n",
       "      <td>57.0</td>\n",
       "      <td>6.73</td>\n",
       "      <td>6.70</td>\n",
       "      <td>4.23</td>\n",
       "      <td>6134</td>\n",
       "    </tr>\n",
       "    <tr>\n",
       "      <th>1</th>\n",
       "      <td>1</td>\n",
       "      <td>0.28</td>\n",
       "      <td>Very Good</td>\n",
       "      <td>D</td>\n",
       "      <td>VVS2</td>\n",
       "      <td>64.0</td>\n",
       "      <td>56.0</td>\n",
       "      <td>4.14</td>\n",
       "      <td>4.17</td>\n",
       "      <td>2.66</td>\n",
       "      <td>532</td>\n",
       "    </tr>\n",
       "    <tr>\n",
       "      <th>2</th>\n",
       "      <td>2</td>\n",
       "      <td>0.42</td>\n",
       "      <td>Premium</td>\n",
       "      <td>F</td>\n",
       "      <td>VS1</td>\n",
       "      <td>61.2</td>\n",
       "      <td>58.0</td>\n",
       "      <td>4.86</td>\n",
       "      <td>4.82</td>\n",
       "      <td>2.96</td>\n",
       "      <td>1103</td>\n",
       "    </tr>\n",
       "    <tr>\n",
       "      <th>3</th>\n",
       "      <td>3</td>\n",
       "      <td>0.26</td>\n",
       "      <td>Ideal</td>\n",
       "      <td>H</td>\n",
       "      <td>IF</td>\n",
       "      <td>61.1</td>\n",
       "      <td>57.0</td>\n",
       "      <td>4.16</td>\n",
       "      <td>4.12</td>\n",
       "      <td>2.53</td>\n",
       "      <td>600</td>\n",
       "    </tr>\n",
       "    <tr>\n",
       "      <th>4</th>\n",
       "      <td>4</td>\n",
       "      <td>1.10</td>\n",
       "      <td>Good</td>\n",
       "      <td>G</td>\n",
       "      <td>SI1</td>\n",
       "      <td>63.4</td>\n",
       "      <td>57.0</td>\n",
       "      <td>6.52</td>\n",
       "      <td>6.55</td>\n",
       "      <td>4.14</td>\n",
       "      <td>4997</td>\n",
       "    </tr>\n",
       "  </tbody>\n",
       "</table>\n",
       "</div>"
      ],
      "text/plain": [
       "   Unnamed: 0  carat        cut color clarity  depth  table     x     y     z  \\\n",
       "0           0   1.21      Ideal     H     VS2   63.0   57.0  6.73  6.70  4.23   \n",
       "1           1   0.28  Very Good     D    VVS2   64.0   56.0  4.14  4.17  2.66   \n",
       "2           2   0.42    Premium     F     VS1   61.2   58.0  4.86  4.82  2.96   \n",
       "3           3   0.26      Ideal     H      IF   61.1   57.0  4.16  4.12  2.53   \n",
       "4           4   1.10       Good     G     SI1   63.4   57.0  6.52  6.55  4.14   \n",
       "\n",
       "   price  \n",
       "0   6134  \n",
       "1    532  \n",
       "2   1103  \n",
       "3    600  \n",
       "4   4997  "
      ]
     },
     "execution_count": 85,
     "metadata": {},
     "output_type": "execute_result"
    }
   ],
   "source": [
    "train.head()"
   ]
  },
  {
   "cell_type": "code",
   "execution_count": 86,
   "metadata": {},
   "outputs": [
    {
     "name": "stdout",
     "output_type": "stream",
     "text": [
      "(40345, 11)\n"
     ]
    },
    {
     "data": {
      "text/plain": [
       "Unnamed: 0      int64\n",
       "carat         float64\n",
       "cut            object\n",
       "color          object\n",
       "clarity        object\n",
       "depth         float64\n",
       "table         float64\n",
       "x             float64\n",
       "y             float64\n",
       "z             float64\n",
       "price           int64\n",
       "dtype: object"
      ]
     },
     "execution_count": 86,
     "metadata": {},
     "output_type": "execute_result"
    }
   ],
   "source": [
    "print(train.shape)\n",
    "train.dtypes"
   ]
  },
  {
   "cell_type": "code",
   "execution_count": 87,
   "metadata": {},
   "outputs": [
    {
     "data": {
      "text/html": [
       "<div>\n",
       "<style scoped>\n",
       "    .dataframe tbody tr th:only-of-type {\n",
       "        vertical-align: middle;\n",
       "    }\n",
       "\n",
       "    .dataframe tbody tr th {\n",
       "        vertical-align: top;\n",
       "    }\n",
       "\n",
       "    .dataframe thead th {\n",
       "        text-align: right;\n",
       "    }\n",
       "</style>\n",
       "<table border=\"1\" class=\"dataframe\">\n",
       "  <thead>\n",
       "    <tr style=\"text-align: right;\">\n",
       "      <th></th>\n",
       "      <th>Unnamed: 0</th>\n",
       "      <th>carat</th>\n",
       "      <th>cut</th>\n",
       "      <th>color</th>\n",
       "      <th>clarity</th>\n",
       "      <th>depth</th>\n",
       "      <th>table</th>\n",
       "      <th>x</th>\n",
       "      <th>y</th>\n",
       "      <th>z</th>\n",
       "      <th>price</th>\n",
       "    </tr>\n",
       "  </thead>\n",
       "  <tbody>\n",
       "    <tr>\n",
       "      <th>count</th>\n",
       "      <td>40345.000000</td>\n",
       "      <td>40345.000000</td>\n",
       "      <td>40345</td>\n",
       "      <td>40345</td>\n",
       "      <td>40345</td>\n",
       "      <td>40345.000000</td>\n",
       "      <td>40345.000000</td>\n",
       "      <td>40345.000000</td>\n",
       "      <td>40345.000000</td>\n",
       "      <td>40345.000000</td>\n",
       "      <td>40345.000000</td>\n",
       "    </tr>\n",
       "    <tr>\n",
       "      <th>unique</th>\n",
       "      <td>NaN</td>\n",
       "      <td>NaN</td>\n",
       "      <td>5</td>\n",
       "      <td>7</td>\n",
       "      <td>8</td>\n",
       "      <td>NaN</td>\n",
       "      <td>NaN</td>\n",
       "      <td>NaN</td>\n",
       "      <td>NaN</td>\n",
       "      <td>NaN</td>\n",
       "      <td>NaN</td>\n",
       "    </tr>\n",
       "    <tr>\n",
       "      <th>top</th>\n",
       "      <td>NaN</td>\n",
       "      <td>NaN</td>\n",
       "      <td>Ideal</td>\n",
       "      <td>G</td>\n",
       "      <td>SI1</td>\n",
       "      <td>NaN</td>\n",
       "      <td>NaN</td>\n",
       "      <td>NaN</td>\n",
       "      <td>NaN</td>\n",
       "      <td>NaN</td>\n",
       "      <td>NaN</td>\n",
       "    </tr>\n",
       "    <tr>\n",
       "      <th>freq</th>\n",
       "      <td>NaN</td>\n",
       "      <td>NaN</td>\n",
       "      <td>16090</td>\n",
       "      <td>8499</td>\n",
       "      <td>9751</td>\n",
       "      <td>NaN</td>\n",
       "      <td>NaN</td>\n",
       "      <td>NaN</td>\n",
       "      <td>NaN</td>\n",
       "      <td>NaN</td>\n",
       "      <td>NaN</td>\n",
       "    </tr>\n",
       "    <tr>\n",
       "      <th>mean</th>\n",
       "      <td>20172.000000</td>\n",
       "      <td>0.795652</td>\n",
       "      <td>NaN</td>\n",
       "      <td>NaN</td>\n",
       "      <td>NaN</td>\n",
       "      <td>61.750413</td>\n",
       "      <td>57.460302</td>\n",
       "      <td>5.726106</td>\n",
       "      <td>5.730217</td>\n",
       "      <td>3.535136</td>\n",
       "      <td>3924.089924</td>\n",
       "    </tr>\n",
       "    <tr>\n",
       "      <th>std</th>\n",
       "      <td>11646.742642</td>\n",
       "      <td>0.470806</td>\n",
       "      <td>NaN</td>\n",
       "      <td>NaN</td>\n",
       "      <td>NaN</td>\n",
       "      <td>1.424219</td>\n",
       "      <td>2.235333</td>\n",
       "      <td>1.118690</td>\n",
       "      <td>1.148584</td>\n",
       "      <td>0.693662</td>\n",
       "      <td>3982.000515</td>\n",
       "    </tr>\n",
       "    <tr>\n",
       "      <th>min</th>\n",
       "      <td>0.000000</td>\n",
       "      <td>0.200000</td>\n",
       "      <td>NaN</td>\n",
       "      <td>NaN</td>\n",
       "      <td>NaN</td>\n",
       "      <td>43.000000</td>\n",
       "      <td>43.000000</td>\n",
       "      <td>0.000000</td>\n",
       "      <td>0.000000</td>\n",
       "      <td>0.000000</td>\n",
       "      <td>326.000000</td>\n",
       "    </tr>\n",
       "    <tr>\n",
       "      <th>25%</th>\n",
       "      <td>10086.000000</td>\n",
       "      <td>0.400000</td>\n",
       "      <td>NaN</td>\n",
       "      <td>NaN</td>\n",
       "      <td>NaN</td>\n",
       "      <td>61.000000</td>\n",
       "      <td>56.000000</td>\n",
       "      <td>4.710000</td>\n",
       "      <td>4.720000</td>\n",
       "      <td>2.910000</td>\n",
       "      <td>948.000000</td>\n",
       "    </tr>\n",
       "    <tr>\n",
       "      <th>50%</th>\n",
       "      <td>20172.000000</td>\n",
       "      <td>0.700000</td>\n",
       "      <td>NaN</td>\n",
       "      <td>NaN</td>\n",
       "      <td>NaN</td>\n",
       "      <td>61.800000</td>\n",
       "      <td>57.000000</td>\n",
       "      <td>5.690000</td>\n",
       "      <td>5.710000</td>\n",
       "      <td>3.520000</td>\n",
       "      <td>2395.000000</td>\n",
       "    </tr>\n",
       "    <tr>\n",
       "      <th>75%</th>\n",
       "      <td>30258.000000</td>\n",
       "      <td>1.040000</td>\n",
       "      <td>NaN</td>\n",
       "      <td>NaN</td>\n",
       "      <td>NaN</td>\n",
       "      <td>62.500000</td>\n",
       "      <td>59.000000</td>\n",
       "      <td>6.540000</td>\n",
       "      <td>6.530000</td>\n",
       "      <td>4.030000</td>\n",
       "      <td>5313.000000</td>\n",
       "    </tr>\n",
       "    <tr>\n",
       "      <th>max</th>\n",
       "      <td>40344.000000</td>\n",
       "      <td>4.010000</td>\n",
       "      <td>NaN</td>\n",
       "      <td>NaN</td>\n",
       "      <td>NaN</td>\n",
       "      <td>79.000000</td>\n",
       "      <td>95.000000</td>\n",
       "      <td>10.020000</td>\n",
       "      <td>58.900000</td>\n",
       "      <td>8.060000</td>\n",
       "      <td>18818.000000</td>\n",
       "    </tr>\n",
       "  </tbody>\n",
       "</table>\n",
       "</div>"
      ],
      "text/plain": [
       "          Unnamed: 0         carat    cut  color clarity         depth  \\\n",
       "count   40345.000000  40345.000000  40345  40345   40345  40345.000000   \n",
       "unique           NaN           NaN      5      7       8           NaN   \n",
       "top              NaN           NaN  Ideal      G     SI1           NaN   \n",
       "freq             NaN           NaN  16090   8499    9751           NaN   \n",
       "mean    20172.000000      0.795652    NaN    NaN     NaN     61.750413   \n",
       "std     11646.742642      0.470806    NaN    NaN     NaN      1.424219   \n",
       "min         0.000000      0.200000    NaN    NaN     NaN     43.000000   \n",
       "25%     10086.000000      0.400000    NaN    NaN     NaN     61.000000   \n",
       "50%     20172.000000      0.700000    NaN    NaN     NaN     61.800000   \n",
       "75%     30258.000000      1.040000    NaN    NaN     NaN     62.500000   \n",
       "max     40344.000000      4.010000    NaN    NaN     NaN     79.000000   \n",
       "\n",
       "               table             x             y             z         price  \n",
       "count   40345.000000  40345.000000  40345.000000  40345.000000  40345.000000  \n",
       "unique           NaN           NaN           NaN           NaN           NaN  \n",
       "top              NaN           NaN           NaN           NaN           NaN  \n",
       "freq             NaN           NaN           NaN           NaN           NaN  \n",
       "mean       57.460302      5.726106      5.730217      3.535136   3924.089924  \n",
       "std         2.235333      1.118690      1.148584      0.693662   3982.000515  \n",
       "min        43.000000      0.000000      0.000000      0.000000    326.000000  \n",
       "25%        56.000000      4.710000      4.720000      2.910000    948.000000  \n",
       "50%        57.000000      5.690000      5.710000      3.520000   2395.000000  \n",
       "75%        59.000000      6.540000      6.530000      4.030000   5313.000000  \n",
       "max        95.000000     10.020000     58.900000      8.060000  18818.000000  "
      ]
     },
     "execution_count": 87,
     "metadata": {},
     "output_type": "execute_result"
    }
   ],
   "source": [
    "train.describe(include='all')"
   ]
  },
  {
   "cell_type": "code",
   "execution_count": 13,
   "metadata": {},
   "outputs": [
    {
     "data": {
      "text/plain": [
       "Unnamed: 0    0\n",
       "carat         0\n",
       "cut           0\n",
       "color         0\n",
       "clarity       0\n",
       "depth         0\n",
       "table         0\n",
       "x             0\n",
       "y             0\n",
       "z             0\n",
       "price         0\n",
       "dtype: int64"
      ]
     },
     "execution_count": 13,
     "metadata": {},
     "output_type": "execute_result"
    }
   ],
   "source": [
    "train.isnull().sum()"
   ]
  },
  {
   "cell_type": "code",
   "execution_count": 14,
   "metadata": {},
   "outputs": [
    {
     "data": {
      "text/plain": [
       "Index(['Unnamed: 0', 'carat', 'cut', 'color', 'clarity', 'depth', 'table', 'x',\n",
       "       'y', 'z', 'price'],\n",
       "      dtype='object')"
      ]
     },
     "execution_count": 14,
     "metadata": {},
     "output_type": "execute_result"
    }
   ],
   "source": [
    "train.columns"
   ]
  },
  {
   "cell_type": "code",
   "execution_count": 16,
   "metadata": {},
   "outputs": [
    {
     "data": {
      "text/plain": [
       "<matplotlib.axes._subplots.AxesSubplot at 0x7fe401cf3f28>"
      ]
     },
     "execution_count": 16,
     "metadata": {},
     "output_type": "execute_result"
    },
    {
     "data": {
      "image/png": "[encoded data removed]",
      "text/plain": [
       "<Figure size 720x504 with 2 Axes>"
      ]
     },
     "metadata": {
      "needs_background": "light"
     },
     "output_type": "display_data"
    }
   ],
   "source": [
    "#Create the correlation matrix\n",
    "correlation_matrix = train.drop(columns=['Unnamed: 0', 'price'], axis=1).corr()\n",
    "#A mask to hide repeated data on top of the diagonal\n",
    "mask = np.zeros_like(correlation_matrix, dtype=np.bool)\n",
    "mask[np.triu_indices_from(mask)] = True\n",
    "#Draw the heatmap:\n",
    "f, ax = plt.subplots(figsize=(10, 7))\n",
    "cmap = sns.diverging_palette(220, 10, as_cmap=True)\n",
    "sns.heatmap(correlation_matrix, mask=mask, cmap=cmap, vmax=1, center=0,\n",
    "            square=True, linewidths=.5, cbar_kws={\"shrink\": .5}, annot = True)"
   ]
  },
  {
   "cell_type": "code",
   "execution_count": 17,
   "metadata": {},
   "outputs": [
    {
     "data": {
      "image/png": "[encoded data removed]",
      "text/plain": [
       "<Figure size 720x360 with 6 Axes>"
      ]
     },
     "metadata": {
      "needs_background": "light"
     },
     "output_type": "display_data"
    }
   ],
   "source": [
    "f, ax = plt.subplots(2,3, figsize=(10,5))\n",
    "for i, e in enumerate(train.drop(columns=['Unnamed: 0','cut', 'color', 'clarity', 'price'], axis=1)):\n",
    "    sns.distplot(train[e], ax = ax[(0 if i<3 else 1),(i if i<3 else i-3)])\n",
    "plt.tight_layout()"
   ]
  },
  {
   "cell_type": "code",
   "execution_count": 88,
   "metadata": {},
   "outputs": [
    {
     "data": {
      "text/plain": [
       "<matplotlib.axes._subplots.AxesSubplot at 0x7fe3fbde1e48>"
      ]
     },
     "execution_count": 88,
     "metadata": {},
     "output_type": "execute_result"
    },
    {
     "data": {
      "image/png": "[encoded data removed]",
      "text/plain": [
       "<Figure size 1080x288 with 3 Axes>"
      ]
     },
     "metadata": {
      "needs_background": "light"
     },
     "output_type": "display_data"
    }
   ],
   "source": [
    "f, ax = plt.subplots(1,3, figsize = (15,4))\n",
    "sns.countplot(train['cut'], ax = ax[0])\n",
    "sns.countplot(train['color'], ax = ax[1])\n",
    "sns.countplot(train['clarity'], ax = ax[2])"
   ]
  },
  {
   "cell_type": "markdown",
   "metadata": {},
   "source": [
    "## Data Engineering"
   ]
  },
  {
   "cell_type": "markdown",
   "metadata": {},
   "source": [
    "Converting object features into ordered numericals:"
   ]
  },
  {
   "cell_type": "code",
   "execution_count": 148,
   "metadata": {},
   "outputs": [],
   "source": [
    "clarity = ('IF', 'VVS2','VS1','VS2','SI1','SI2','I1' )\n",
    "color = ('J', 'I', 'H', 'G', 'F', 'E', 'D')\n",
    "cut = ('Premium', 'Ideal', 'Very Good', 'Good','Fair')\n",
    "categories = fn.categorize([train.cut, train.color, train.clarity], [cut, color, clarity])"
   ]
  },
  {
   "cell_type": "code",
   "execution_count": 149,
   "metadata": {},
   "outputs": [],
   "source": [
    "train_clean = pd.concat([train, categories], axis=1, sort=False )"
   ]
  },
  {
   "cell_type": "code",
   "execution_count": 150,
   "metadata": {},
   "outputs": [],
   "source": [
    "X_clean = train.drop(['price','Unnamed: 0', 'cut', 'color', 'clarity'], axis= 1) \n",
    "y = train.price"
   ]
  },
  {
   "cell_type": "code",
   "execution_count": 151,
   "metadata": {},
   "outputs": [
    {
     "data": {
      "text/html": [
       "<div>\n",
       "<style scoped>\n",
       "    .dataframe tbody tr th:only-of-type {\n",
       "        vertical-align: middle;\n",
       "    }\n",
       "\n",
       "    .dataframe tbody tr th {\n",
       "        vertical-align: top;\n",
       "    }\n",
       "\n",
       "    .dataframe thead th {\n",
       "        text-align: right;\n",
       "    }\n",
       "</style>\n",
       "<table border=\"1\" class=\"dataframe\">\n",
       "  <thead>\n",
       "    <tr style=\"text-align: right;\">\n",
       "      <th></th>\n",
       "      <th>carat</th>\n",
       "      <th>depth</th>\n",
       "      <th>table</th>\n",
       "      <th>x</th>\n",
       "      <th>y</th>\n",
       "      <th>z</th>\n",
       "    </tr>\n",
       "  </thead>\n",
       "  <tbody>\n",
       "    <tr>\n",
       "      <th>0</th>\n",
       "      <td>0.434196</td>\n",
       "      <td>0.432866</td>\n",
       "      <td>-0.101593</td>\n",
       "      <td>0.442732</td>\n",
       "      <td>0.416557</td>\n",
       "      <td>0.494214</td>\n",
       "    </tr>\n",
       "    <tr>\n",
       "      <th>1</th>\n",
       "      <td>-0.354075</td>\n",
       "      <td>0.510631</td>\n",
       "      <td>-0.211194</td>\n",
       "      <td>-0.458357</td>\n",
       "      <td>-0.439140</td>\n",
       "      <td>-0.407858</td>\n",
       "    </tr>\n",
       "    <tr>\n",
       "      <th>2</th>\n",
       "      <td>-0.480348</td>\n",
       "      <td>-0.232661</td>\n",
       "      <td>0.145352</td>\n",
       "      <td>-0.466094</td>\n",
       "      <td>-0.477083</td>\n",
       "      <td>-0.499155</td>\n",
       "    </tr>\n",
       "    <tr>\n",
       "      <th>3</th>\n",
       "      <td>-0.413508</td>\n",
       "      <td>-0.165980</td>\n",
       "      <td>-0.074842</td>\n",
       "      <td>-0.508809</td>\n",
       "      <td>-0.509525</td>\n",
       "      <td>-0.526648</td>\n",
       "    </tr>\n",
       "    <tr>\n",
       "      <th>4</th>\n",
       "      <td>0.341883</td>\n",
       "      <td>0.612559</td>\n",
       "      <td>-0.108906</td>\n",
       "      <td>0.375320</td>\n",
       "      <td>0.377473</td>\n",
       "      <td>0.461168</td>\n",
       "    </tr>\n",
       "    <tr>\n",
       "      <th>...</th>\n",
       "      <td>...</td>\n",
       "      <td>...</td>\n",
       "      <td>...</td>\n",
       "      <td>...</td>\n",
       "      <td>...</td>\n",
       "      <td>...</td>\n",
       "    </tr>\n",
       "    <tr>\n",
       "      <th>40340</th>\n",
       "      <td>0.466318</td>\n",
       "      <td>-0.092042</td>\n",
       "      <td>0.460868</td>\n",
       "      <td>0.451092</td>\n",
       "      <td>0.420573</td>\n",
       "      <td>0.425807</td>\n",
       "    </tr>\n",
       "    <tr>\n",
       "      <th>40341</th>\n",
       "      <td>-0.411500</td>\n",
       "      <td>-0.359211</td>\n",
       "      <td>-0.290518</td>\n",
       "      <td>-0.455604</td>\n",
       "      <td>-0.425979</td>\n",
       "      <td>-0.477705</td>\n",
       "    </tr>\n",
       "    <tr>\n",
       "      <th>40342</th>\n",
       "      <td>-0.349765</td>\n",
       "      <td>0.230365</td>\n",
       "      <td>-0.803203</td>\n",
       "      <td>-0.258393</td>\n",
       "      <td>-0.247926</td>\n",
       "      <td>-0.226332</td>\n",
       "    </tr>\n",
       "    <tr>\n",
       "      <th>40343</th>\n",
       "      <td>0.162778</td>\n",
       "      <td>-0.539839</td>\n",
       "      <td>0.726112</td>\n",
       "      <td>0.237750</td>\n",
       "      <td>0.258298</td>\n",
       "      <td>0.177754</td>\n",
       "    </tr>\n",
       "    <tr>\n",
       "      <th>40344</th>\n",
       "      <td>-0.409815</td>\n",
       "      <td>-0.715601</td>\n",
       "      <td>-0.155411</td>\n",
       "      <td>-0.267229</td>\n",
       "      <td>-0.302400</td>\n",
       "      <td>-0.364632</td>\n",
       "    </tr>\n",
       "  </tbody>\n",
       "</table>\n",
       "<p>40345 rows × 6 columns</p>\n",
       "</div>"
      ],
      "text/plain": [
       "          carat     depth     table         x         y         z\n",
       "0      0.434196  0.432866 -0.101593  0.442732  0.416557  0.494214\n",
       "1     -0.354075  0.510631 -0.211194 -0.458357 -0.439140 -0.407858\n",
       "2     -0.480348 -0.232661  0.145352 -0.466094 -0.477083 -0.499155\n",
       "3     -0.413508 -0.165980 -0.074842 -0.508809 -0.509525 -0.526648\n",
       "4      0.341883  0.612559 -0.108906  0.375320  0.377473  0.461168\n",
       "...         ...       ...       ...       ...       ...       ...\n",
       "40340  0.466318 -0.092042  0.460868  0.451092  0.420573  0.425807\n",
       "40341 -0.411500 -0.359211 -0.290518 -0.455604 -0.425979 -0.477705\n",
       "40342 -0.349765  0.230365 -0.803203 -0.258393 -0.247926 -0.226332\n",
       "40343  0.162778 -0.539839  0.726112  0.237750  0.258298  0.177754\n",
       "40344 -0.409815 -0.715601 -0.155411 -0.267229 -0.302400 -0.364632\n",
       "\n",
       "[40345 rows x 6 columns]"
      ]
     },
     "execution_count": 151,
     "metadata": {},
     "output_type": "execute_result"
    }
   ],
   "source": [
    "pipeline = [\n",
    "    StandardScaler(),\n",
    "    Normalizer(),\n",
    "]\n",
    "\n",
    "tr = make_pipeline(*pipeline)\n",
    "\n",
    "X = tr.fit_transform(X_clean)\n",
    "X = pd.DataFrame(X,columns=X_clean.columns)\n",
    "X"
   ]
  },
  {
   "cell_type": "code",
   "execution_count": null,
   "metadata": {},
   "outputs": [],
   "source": []
  },
  {
   "cell_type": "code",
   "execution_count": 153,
   "metadata": {},
   "outputs": [],
   "source": [
    "from sklearn.feature_selection import f_regression\n",
    "X_new = f_regression(X, y, center=True)"
   ]
  },
  {
   "cell_type": "code",
   "execution_count": 155,
   "metadata": {},
   "outputs": [
    {
     "data": {
      "text/html": [
       "<div>\n",
       "<style scoped>\n",
       "    .dataframe tbody tr th:only-of-type {\n",
       "        vertical-align: middle;\n",
       "    }\n",
       "\n",
       "    .dataframe tbody tr th {\n",
       "        vertical-align: top;\n",
       "    }\n",
       "\n",
       "    .dataframe thead th {\n",
       "        text-align: right;\n",
       "    }\n",
       "</style>\n",
       "<table border=\"1\" class=\"dataframe\">\n",
       "  <thead>\n",
       "    <tr style=\"text-align: right;\">\n",
       "      <th></th>\n",
       "      <th>0</th>\n",
       "      <th>1</th>\n",
       "      <th>2</th>\n",
       "      <th>3</th>\n",
       "      <th>4</th>\n",
       "      <th>5</th>\n",
       "    </tr>\n",
       "  </thead>\n",
       "  <tbody>\n",
       "    <tr>\n",
       "      <th>0</th>\n",
       "      <td>97246.661093</td>\n",
       "      <td>1.116269</td>\n",
       "      <td>4.740076e+02</td>\n",
       "      <td>61404.065622</td>\n",
       "      <td>61382.890149</td>\n",
       "      <td>57879.602382</td>\n",
       "    </tr>\n",
       "    <tr>\n",
       "      <th>1</th>\n",
       "      <td>0.000000</td>\n",
       "      <td>0.290730</td>\n",
       "      <td>1.722706e-104</td>\n",
       "      <td>0.000000</td>\n",
       "      <td>0.000000</td>\n",
       "      <td>0.000000</td>\n",
       "    </tr>\n",
       "  </tbody>\n",
       "</table>\n",
       "</div>"
      ],
      "text/plain": [
       "              0         1              2             3             4  \\\n",
       "0  97246.661093  1.116269   4.740076e+02  61404.065622  61382.890149   \n",
       "1      0.000000  0.290730  1.722706e-104      0.000000      0.000000   \n",
       "\n",
       "              5  \n",
       "0  57879.602382  \n",
       "1      0.000000  "
      ]
     },
     "execution_count": 155,
     "metadata": {},
     "output_type": "execute_result"
    }
   ],
   "source": [
    "pd.DataFrame(X_new)"
   ]
  },
  {
   "cell_type": "markdown",
   "metadata": {},
   "source": [
    "### Models"
   ]
  },
  {
   "cell_type": "code",
   "execution_count": 101,
   "metadata": {},
   "outputs": [],
   "source": [
    "X_train, X_test, y_train, y_test = train_test_split(X, y, test_size=0.2, random_state = 0)"
   ]
  },
  {
   "cell_type": "code",
   "execution_count": 106,
   "metadata": {},
   "outputs": [
    {
     "name": "stdout",
     "output_type": "stream",
     "text": [
      "Training model: LinearRegression\n",
      "Training model: Ridge\n",
      "Training model: Lasso\n",
      "Training model: ElasticNet\n",
      "Training model: BayesianRidge\n"
     ]
    }
   ],
   "source": [
    "models = {\n",
    "    \"LinearRegression\" : LinearRegression(),\n",
    "    \"Ridge\" : Ridge(alpha=1, tol=0.001, solver='auto', random_state=0),\n",
    "    \"Lasso\" : Lasso(alpha=1, max_iter=1000, tol=0.0001),\n",
    "    \"ElasticNet\" : ElasticNet(alpha=1.0, l1_ratio=0.5, fit_intercept=True, tol=0.0001, random_state=0),\n",
    "    \"BayesianRidge\": BayesianRidge(n_iter=300, tol=0.001, alpha_1=1e-06, alpha_2=1e-06, lambda_1=1e-06, lambda_2=1e-06)\n",
    "}\n",
    "\n",
    "for modelName, model in models.items():\n",
    "    print(f\"Training model: {modelName}\")\n",
    "    model.fit(X_train, y_train)"
   ]
  },
  {
   "cell_type": "code",
   "execution_count": 107,
   "metadata": {},
   "outputs": [
    {
     "name": "stdout",
     "output_type": "stream",
     "text": [
      "---------[LinearRegression]---------:\n",
      "MSE =  4313021.61639\n",
      "RMSE =  2076.7815523993463\n",
      "---------[Ridge]---------:\n",
      "MSE =  4314047.08791\n",
      "RMSE =  2077.02842732339\n",
      "---------[Lasso]---------:\n",
      "MSE =  4322335.73129\n",
      "RMSE =  2079.02278277371\n",
      "---------[ElasticNet]---------:\n",
      "MSE =  7951009.05882\n",
      "RMSE =  2819.753368437964\n",
      "---------[BayesianRidge]---------:\n",
      "MSE =  4313108.07933\n",
      "RMSE =  2076.8023688654957\n"
     ]
    }
   ],
   "source": [
    "for name, model in models.items():\n",
    "    print(f\"---------[{name}]---------:\")\n",
    "    y_pred = model.predict(X_test)\n",
    "    results = pd.DataFrame({\n",
    "    \"GT\":y_test,\n",
    "    \"pred\":y_pred,\n",
    "    \"diff\":y_pred-y_test\n",
    "    })\n",
    "    print(\"MSE = \",round(mean_squared_error(y_test,y_pred),5))\n",
    "    print(\"RMSE = \",np.sqrt(mean_squared_error(y_test,y_pred)))\n",
    "    #display(results)"
   ]
  },
  {
   "cell_type": "code",
   "execution_count": null,
   "metadata": {},
   "outputs": [],
   "source": []
  },
  {
   "cell_type": "code",
   "execution_count": null,
   "metadata": {},
   "outputs": [],
   "source": []
  },
  {
   "cell_type": "code",
   "execution_count": null,
   "metadata": {},
   "outputs": [],
   "source": [
    " parameters = {'kernel':('linear', 'rbf'), 'C':[1, 10]}\n",
    "svc = svm.SVC()\n",
    "clf = GridSearchCV(svc, parameters)\n",
    "clf.fit(iris.data, iris.target)\n",
    "GridSearchCV(estimator=SVC(),\n",
    "             param_grid={'C': [1, 10], 'kernel': ('linear', 'rbf')})\n",
    "sorted(clf.cv_results_.keys())"
   ]
  },
  {
   "cell_type": "code",
   "execution_count": null,
   "metadata": {},
   "outputs": [],
   "source": []
  },
  {
   "cell_type": "markdown",
   "metadata": {},
   "source": [
    "## Training with all the data:"
   ]
  },
  {
   "cell_type": "code",
   "execution_count": 135,
   "metadata": {},
   "outputs": [
    {
     "data": {
      "text/plain": [
       "LinearRegression(copy_X=True, fit_intercept=True, n_jobs=None, normalize=False)"
      ]
     },
     "execution_count": 135,
     "metadata": {},
     "output_type": "execute_result"
    }
   ],
   "source": [
    "mod = LinearRegression()\n",
    "mod.fit(X,y)"
   ]
  },
  {
   "cell_type": "markdown",
   "metadata": {},
   "source": [
    "### Fixing test data:"
   ]
  },
  {
   "cell_type": "code",
   "execution_count": 144,
   "metadata": {},
   "outputs": [],
   "source": [
    "clarity = ('IF', 'VVS2','VS1','VS2','SI1','SI2','I1' )\n",
    "color = ('J', 'I', 'H', 'G', 'F', 'E', 'D')\n",
    "cut = ('Premium', 'Ideal', 'Very Good', 'Good','Fair')\n",
    "categories = fn.categorize([test.cut, test.color, test.clarity], [cut, color, clarity])\n",
    "test_clean = pd.concat([test, categories], axis=1, sort=False )\n",
    "X_testclean = test.drop(['Unnamed: 0', 'cut', 'color', 'clarity','x','y','z'], axis= 1) \n",
    "pipeline = [\n",
    "    StandardScaler(),\n",
    "    Normalizer(),\n",
    "]\n",
    "\n",
    "tr = make_pipeline(*pipeline)\n",
    "\n",
    "X_testdata = tr.fit_transform(X_testclean)\n",
    "X_testdata = pd.DataFrame(X_testdata,columns=X_testclean.columns)\n"
   ]
  },
  {
   "cell_type": "markdown",
   "metadata": {},
   "source": [
    "### Predicting"
   ]
  },
  {
   "cell_type": "code",
   "execution_count": 139,
   "metadata": {},
   "outputs": [],
   "source": [
    "y_pred = mod.predict(X_test)"
   ]
  },
  {
   "cell_type": "markdown",
   "metadata": {},
   "source": [
    "### Preparing csv"
   ]
  },
  {
   "cell_type": "code",
   "execution_count": 143,
   "metadata": {},
   "outputs": [
    {
     "data": {
      "text/html": [
       "<div>\n",
       "<style scoped>\n",
       "    .dataframe tbody tr th:only-of-type {\n",
       "        vertical-align: middle;\n",
       "    }\n",
       "\n",
       "    .dataframe tbody tr th {\n",
       "        vertical-align: top;\n",
       "    }\n",
       "\n",
       "    .dataframe thead th {\n",
       "        text-align: right;\n",
       "    }\n",
       "</style>\n",
       "<table border=\"1\" class=\"dataframe\">\n",
       "  <thead>\n",
       "    <tr style=\"text-align: right;\">\n",
       "      <th></th>\n",
       "      <th>id</th>\n",
       "      <th>price</th>\n",
       "    </tr>\n",
       "  </thead>\n",
       "  <tbody>\n",
       "    <tr>\n",
       "      <th>0</th>\n",
       "      <td>0</td>\n",
       "      <td>1321.740238</td>\n",
       "    </tr>\n",
       "    <tr>\n",
       "      <th>1</th>\n",
       "      <td>1</td>\n",
       "      <td>-883.202205</td>\n",
       "    </tr>\n",
       "    <tr>\n",
       "      <th>2</th>\n",
       "      <td>2</td>\n",
       "      <td>9084.152422</td>\n",
       "    </tr>\n",
       "    <tr>\n",
       "      <th>3</th>\n",
       "      <td>3</td>\n",
       "      <td>-986.690060</td>\n",
       "    </tr>\n",
       "    <tr>\n",
       "      <th>4</th>\n",
       "      <td>4</td>\n",
       "      <td>7346.946748</td>\n",
       "    </tr>\n",
       "    <tr>\n",
       "      <th>...</th>\n",
       "      <td>...</td>\n",
       "      <td>...</td>\n",
       "    </tr>\n",
       "    <tr>\n",
       "      <th>13444</th>\n",
       "      <td>13444</td>\n",
       "      <td>6452.079154</td>\n",
       "    </tr>\n",
       "    <tr>\n",
       "      <th>13445</th>\n",
       "      <td>13445</td>\n",
       "      <td>-289.073900</td>\n",
       "    </tr>\n",
       "    <tr>\n",
       "      <th>13446</th>\n",
       "      <td>13446</td>\n",
       "      <td>8510.932633</td>\n",
       "    </tr>\n",
       "    <tr>\n",
       "      <th>13447</th>\n",
       "      <td>13447</td>\n",
       "      <td>8178.872136</td>\n",
       "    </tr>\n",
       "    <tr>\n",
       "      <th>13448</th>\n",
       "      <td>13448</td>\n",
       "      <td>-572.884924</td>\n",
       "    </tr>\n",
       "  </tbody>\n",
       "</table>\n",
       "<p>13449 rows × 2 columns</p>\n",
       "</div>"
      ],
      "text/plain": [
       "          id        price\n",
       "0          0  1321.740238\n",
       "1          1  -883.202205\n",
       "2          2  9084.152422\n",
       "3          3  -986.690060\n",
       "4          4  7346.946748\n",
       "...      ...          ...\n",
       "13444  13444  6452.079154\n",
       "13445  13445  -289.073900\n",
       "13446  13446  8510.932633\n",
       "13447  13447  8178.872136\n",
       "13448  13448  -572.884924\n",
       "\n",
       "[13449 rows x 2 columns]"
      ]
     },
     "execution_count": 143,
     "metadata": {},
     "output_type": "execute_result"
    }
   ],
   "source": [
    "result = pd.DataFrame({'id':X_test.index, 'price':y_pred})\n",
    "result"
   ]
  },
  {
   "cell_type": "code",
   "execution_count": 146,
   "metadata": {},
   "outputs": [],
   "source": [
    "result.to_csv('./OUTPUT/submission.csv')"
   ]
  }
 ],
 "metadata": {
  "kernelspec": {
   "display_name": "Python 3.6.9 64-bit",
   "language": "python",
   "name": "python36964bit36b15ce491344c3aaf77177bbb6e80c7"
  }
 },
 "nbformat": 4,
 "nbformat_minor": 2
}
