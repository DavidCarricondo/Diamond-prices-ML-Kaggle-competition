{
 "cells": [
  {
   "cell_type": "code",
   "execution_count": 2,
   "metadata": {},
   "outputs": [],
   "source": [
    "import pandas as pd\n",
    "import numpy as np\n",
    "import src.Cleaning_functions as fn"
   ]
  },
  {
   "cell_type": "code",
   "execution_count": 3,
   "metadata": {},
   "outputs": [],
   "source": [
    "import h2o\n",
    "from h2o.automl import H2OAutoML"
   ]
  },
  {
   "cell_type": "markdown",
   "metadata": {},
   "source": [
    "Initiate the h2o:"
   ]
  },
  {
   "cell_type": "code",
   "execution_count": 5,
   "metadata": {},
   "outputs": [
    {
     "name": "stdout",
     "output_type": "stream",
     "text": [
      "Checking whether there is an H2O instance running at http://localhost:54321 ..... not found.\n",
      "Attempting to start a local H2O server...\n",
      "  Java Version: openjdk version \"1.8.0_252\"; OpenJDK Runtime Environment (build 1.8.0_252-8u252-b09-1~18.04-b09); OpenJDK 64-Bit Server VM (build 25.252-b09, mixed mode)\n",
      "  Starting server from /home/david/.local/lib/python3.6/site-packages/h2o/backend/bin/h2o.jar\n",
      "  Ice root: /tmp/tmppxo78w1c\n",
      "  JVM stdout: /tmp/tmppxo78w1c/h2o_david_started_from_python.out\n",
      "  JVM stderr: /tmp/tmppxo78w1c/h2o_david_started_from_python.err\n",
      "  Server is running at http://127.0.0.1:54321\n",
      "Connecting to H2O server at http://127.0.0.1:54321 ... successful.\n"
     ]
    },
    {
     "data": {
      "text/html": [
       "<div style=\"overflow:auto\"><table style=\"width:50%\"><tr><td>H2O_cluster_uptime:</td>\n",
       "<td>02 secs</td></tr>\n",
       "<tr><td>H2O_cluster_timezone:</td>\n",
       "<td>Europe/Madrid</td></tr>\n",
       "<tr><td>H2O_data_parsing_timezone:</td>\n",
       "<td>UTC</td></tr>\n",
       "<tr><td>H2O_cluster_version:</td>\n",
       "<td>3.30.0.2</td></tr>\n",
       "<tr><td>H2O_cluster_version_age:</td>\n",
       "<td>12 days </td></tr>\n",
       "<tr><td>H2O_cluster_name:</td>\n",
       "<td>H2O_from_python_david_ydbcp9</td></tr>\n",
       "<tr><td>H2O_cluster_total_nodes:</td>\n",
       "<td>1</td></tr>\n",
       "<tr><td>H2O_cluster_free_memory:</td>\n",
       "<td>1.710 Gb</td></tr>\n",
       "<tr><td>H2O_cluster_total_cores:</td>\n",
       "<td>4</td></tr>\n",
       "<tr><td>H2O_cluster_allowed_cores:</td>\n",
       "<td>4</td></tr>\n",
       "<tr><td>H2O_cluster_status:</td>\n",
       "<td>accepting new members, healthy</td></tr>\n",
       "<tr><td>H2O_connection_url:</td>\n",
       "<td>http://127.0.0.1:54321</td></tr>\n",
       "<tr><td>H2O_connection_proxy:</td>\n",
       "<td>{\"http\": null, \"https\": null}</td></tr>\n",
       "<tr><td>H2O_internal_security:</td>\n",
       "<td>False</td></tr>\n",
       "<tr><td>H2O_API_Extensions:</td>\n",
       "<td>Amazon S3, XGBoost, Algos, AutoML, Core V3, TargetEncoder, Core V4</td></tr>\n",
       "<tr><td>Python_version:</td>\n",
       "<td>3.6.9 final</td></tr></table></div>"
      ],
      "text/plain": [
       "--------------------------  ------------------------------------------------------------------\n",
       "H2O_cluster_uptime:         02 secs\n",
       "H2O_cluster_timezone:       Europe/Madrid\n",
       "H2O_data_parsing_timezone:  UTC\n",
       "H2O_cluster_version:        3.30.0.2\n",
       "H2O_cluster_version_age:    12 days\n",
       "H2O_cluster_name:           H2O_from_python_david_ydbcp9\n",
       "H2O_cluster_total_nodes:    1\n",
       "H2O_cluster_free_memory:    1.710 Gb\n",
       "H2O_cluster_total_cores:    4\n",
       "H2O_cluster_allowed_cores:  4\n",
       "H2O_cluster_status:         accepting new members, healthy\n",
       "H2O_connection_url:         http://127.0.0.1:54321\n",
       "H2O_connection_proxy:       {\"http\": null, \"https\": null}\n",
       "H2O_internal_security:      False\n",
       "H2O_API_Extensions:         Amazon S3, XGBoost, Algos, AutoML, Core V3, TargetEncoder, Core V4\n",
       "Python_version:             3.6.9 final\n",
       "--------------------------  ------------------------------------------------------------------"
      ]
     },
     "metadata": {},
     "output_type": "display_data"
    }
   ],
   "source": [
    "h2o.init()"
   ]
  },
  {
   "cell_type": "markdown",
   "metadata": {},
   "source": [
    "Import and clean the data:"
   ]
  },
  {
   "cell_type": "code",
   "execution_count": 48,
   "metadata": {},
   "outputs": [],
   "source": [
    "train = pd.read_csv('./INPUT/diamonds_train.csv') \n"
   ]
  },
  {
   "cell_type": "code",
   "execution_count": 80,
   "metadata": {},
   "outputs": [],
   "source": [
    "features = ['carat','table','depth', 'x', 'y', 'z']\n",
    "\n",
    "\n",
    "new_df = pd.DataFrame()\n",
    "for e in features:\n",
    "    name = e + '_log'\n",
    "    new_df[name] = train[e].apply(lambda x: np.log1p(x))\n",
    "new_train = train.drop(features, axis=1).reset_index(drop=True)\n",
    "train_clean = pd.concat([new_train, new_df], axis=1, sort=False)\n",
    "\n",
    "#Categories to numericals:\n",
    "train_clean.replace({'Premium': 1, 'Ideal': 2, 'Very Good':3, 'Good':4, 'Fair':5}, inplace=True)\n",
    "train_clean.replace({'D':1, 'E':2, 'F':3, 'G':4, 'H':5, 'I':6, 'J':7}, inplace=True)\n",
    "train_clean.replace({'IF':1, 'VVS1':2, 'VVS2':3, 'VS1':4, 'VS2':5, 'SI1':6, 'SI2':7, 'I1':8}, inplace=True)\n",
    "\n",
    "#Standardize columns:\n",
    "train_clean = fn.standardize(train_clean,['carat_log','table_log','x_log','y_log'] )\n",
    "\n",
    "#Unuseful columns\n",
    "train_clean.drop(['Unnamed: 0','depth_log','z_log'], axis= 1, inplace=True)"
   ]
  },
  {
   "cell_type": "markdown",
   "metadata": {},
   "source": [
    "Parse the csv to a h2o object:"
   ]
  },
  {
   "cell_type": "code",
   "execution_count": 82,
   "metadata": {},
   "outputs": [
    {
     "name": "stdout",
     "output_type": "stream",
     "text": [
      "Parse progress: |█████████████████████████████████████████████████████████| 100%\n"
     ]
    }
   ],
   "source": [
    "trainh2o = h2o.H2OFrame(train_clean)\n",
    "#train, valid = trainh2o.split_frame(ratios = [.8], seed = 1234)"
   ]
  },
  {
   "cell_type": "code",
   "execution_count": 83,
   "metadata": {},
   "outputs": [],
   "source": [
    "x = trainh2o.columns\n",
    "y = \"price\"\n",
    "x.remove(y)"
   ]
  },
  {
   "cell_type": "markdown",
   "metadata": {},
   "source": [
    "Train the auto ML model for one hour:"
   ]
  },
  {
   "cell_type": "code",
   "execution_count": 84,
   "metadata": {},
   "outputs": [
    {
     "name": "stdout",
     "output_type": "stream",
     "text": [
      "AutoML progress: |████████████████████████████████████████████████████████| 100%\n"
     ]
    }
   ],
   "source": [
    "aml = H2OAutoML(seed=1)\n",
    "aml.train(x=x, y=y, training_frame=train)"
   ]
  },
  {
   "cell_type": "markdown",
   "metadata": {},
   "source": [
    "Check the leaderboard:"
   ]
  },
  {
   "cell_type": "code",
   "execution_count": 85,
   "metadata": {},
   "outputs": [
    {
     "data": {
      "text/html": [
       "<table>\n",
       "<thead>\n",
       "<tr><th>model_id                                           </th><th style=\"text-align: right;\">  mean_residual_deviance</th><th style=\"text-align: right;\">    rmse</th><th style=\"text-align: right;\">             mse</th><th style=\"text-align: right;\">     mae</th><th style=\"text-align: right;\">      rmsle</th></tr>\n",
       "</thead>\n",
       "<tbody>\n",
       "<tr><td>StackedEnsemble_AllModels_AutoML_20200511_190504   </td><td style=\"text-align: right;\">        284059          </td><td style=\"text-align: right;\"> 532.972</td><td style=\"text-align: right;\">284059          </td><td style=\"text-align: right;\"> 272.844</td><td style=\"text-align: right;\">  0.0982167</td></tr>\n",
       "<tr><td>StackedEnsemble_BestOfFamily_AutoML_20200511_190504</td><td style=\"text-align: right;\">        285240          </td><td style=\"text-align: right;\"> 534.079</td><td style=\"text-align: right;\">285240          </td><td style=\"text-align: right;\"> 275.518</td><td style=\"text-align: right;\">  0.0997747</td></tr>\n",
       "<tr><td>GBM_2_AutoML_20200511_190504                       </td><td style=\"text-align: right;\">        290943          </td><td style=\"text-align: right;\"> 539.391</td><td style=\"text-align: right;\">290943          </td><td style=\"text-align: right;\"> 279.494</td><td style=\"text-align: right;\">nan        </td></tr>\n",
       "<tr><td>GBM_3_AutoML_20200511_190504                       </td><td style=\"text-align: right;\">        291772          </td><td style=\"text-align: right;\"> 540.16 </td><td style=\"text-align: right;\">291772          </td><td style=\"text-align: right;\"> 277.776</td><td style=\"text-align: right;\">  0.0988642</td></tr>\n",
       "<tr><td>GBM_4_AutoML_20200511_190504                       </td><td style=\"text-align: right;\">        293897          </td><td style=\"text-align: right;\"> 542.123</td><td style=\"text-align: right;\">293897          </td><td style=\"text-align: right;\"> 273.687</td><td style=\"text-align: right;\">nan        </td></tr>\n",
       "<tr><td>GBM_1_AutoML_20200511_190504                       </td><td style=\"text-align: right;\">        294825          </td><td style=\"text-align: right;\"> 542.978</td><td style=\"text-align: right;\">294825          </td><td style=\"text-align: right;\"> 284.007</td><td style=\"text-align: right;\">  0.103185 </td></tr>\n",
       "<tr><td>GBM_grid__1_AutoML_20200511_190504_model_4         </td><td style=\"text-align: right;\">        296907          </td><td style=\"text-align: right;\"> 544.891</td><td style=\"text-align: right;\">296907          </td><td style=\"text-align: right;\"> 273.279</td><td style=\"text-align: right;\">  0.092564 </td></tr>\n",
       "<tr><td>GBM_grid__1_AutoML_20200511_190504_model_5         </td><td style=\"text-align: right;\">        298056          </td><td style=\"text-align: right;\"> 545.945</td><td style=\"text-align: right;\">298056          </td><td style=\"text-align: right;\"> 274.818</td><td style=\"text-align: right;\">  0.0959358</td></tr>\n",
       "<tr><td>GBM_grid__1_AutoML_20200511_190504_model_28        </td><td style=\"text-align: right;\">        299711          </td><td style=\"text-align: right;\"> 547.459</td><td style=\"text-align: right;\">299711          </td><td style=\"text-align: right;\"> 278.64 </td><td style=\"text-align: right;\">  0.0949812</td></tr>\n",
       "<tr><td>GBM_grid__1_AutoML_20200511_190504_model_2         </td><td style=\"text-align: right;\">        300107          </td><td style=\"text-align: right;\"> 547.821</td><td style=\"text-align: right;\">300107          </td><td style=\"text-align: right;\"> 282.425</td><td style=\"text-align: right;\">  0.100787 </td></tr>\n",
       "<tr><td>GBM_grid__1_AutoML_20200511_190504_model_19        </td><td style=\"text-align: right;\">        300199          </td><td style=\"text-align: right;\"> 547.904</td><td style=\"text-align: right;\">300199          </td><td style=\"text-align: right;\"> 277.913</td><td style=\"text-align: right;\">  0.100465 </td></tr>\n",
       "<tr><td>GBM_grid__1_AutoML_20200511_190504_model_8         </td><td style=\"text-align: right;\">        300300          </td><td style=\"text-align: right;\"> 547.996</td><td style=\"text-align: right;\">300300          </td><td style=\"text-align: right;\"> 293.662</td><td style=\"text-align: right;\">  0.111419 </td></tr>\n",
       "<tr><td>GBM_grid__1_AutoML_20200511_190504_model_29        </td><td style=\"text-align: right;\">        302216          </td><td style=\"text-align: right;\"> 549.741</td><td style=\"text-align: right;\">302216          </td><td style=\"text-align: right;\"> 280.268</td><td style=\"text-align: right;\">  0.103103 </td></tr>\n",
       "<tr><td>GBM_grid__1_AutoML_20200511_190504_model_24        </td><td style=\"text-align: right;\">        303704          </td><td style=\"text-align: right;\"> 551.094</td><td style=\"text-align: right;\">303704          </td><td style=\"text-align: right;\"> 277.595</td><td style=\"text-align: right;\">  0.0949806</td></tr>\n",
       "<tr><td>XGBoost_grid__1_AutoML_20200511_190504_model_23    </td><td style=\"text-align: right;\">        303997          </td><td style=\"text-align: right;\"> 551.359</td><td style=\"text-align: right;\">303997          </td><td style=\"text-align: right;\"> 288.77 </td><td style=\"text-align: right;\">  0.104025 </td></tr>\n",
       "<tr><td>GBM_grid__1_AutoML_20200511_190504_model_10        </td><td style=\"text-align: right;\">        305029          </td><td style=\"text-align: right;\"> 552.294</td><td style=\"text-align: right;\">305029          </td><td style=\"text-align: right;\"> 291.318</td><td style=\"text-align: right;\">  0.111101 </td></tr>\n",
       "<tr><td>GBM_grid__1_AutoML_20200511_190504_model_26        </td><td style=\"text-align: right;\">        305842          </td><td style=\"text-align: right;\"> 553.03 </td><td style=\"text-align: right;\">305842          </td><td style=\"text-align: right;\"> 282.692</td><td style=\"text-align: right;\">nan        </td></tr>\n",
       "<tr><td>GBM_grid__1_AutoML_20200511_190504_model_21        </td><td style=\"text-align: right;\">        306390          </td><td style=\"text-align: right;\"> 553.525</td><td style=\"text-align: right;\">306390          </td><td style=\"text-align: right;\"> 287.453</td><td style=\"text-align: right;\">nan        </td></tr>\n",
       "<tr><td>GBM_grid__1_AutoML_20200511_190504_model_31        </td><td style=\"text-align: right;\">        306643          </td><td style=\"text-align: right;\"> 553.754</td><td style=\"text-align: right;\">306643          </td><td style=\"text-align: right;\"> 285.204</td><td style=\"text-align: right;\">  0.108568 </td></tr>\n",
       "<tr><td>GBM_5_AutoML_20200511_190504                       </td><td style=\"text-align: right;\">        307001          </td><td style=\"text-align: right;\"> 554.077</td><td style=\"text-align: right;\">307001          </td><td style=\"text-align: right;\"> 278.845</td><td style=\"text-align: right;\">  0.0992198</td></tr>\n",
       "<tr><td>GBM_grid__1_AutoML_20200511_190504_model_7         </td><td style=\"text-align: right;\">        307692          </td><td style=\"text-align: right;\"> 554.7  </td><td style=\"text-align: right;\">307692          </td><td style=\"text-align: right;\"> 295.069</td><td style=\"text-align: right;\">  0.116321 </td></tr>\n",
       "<tr><td>XGBoost_grid__1_AutoML_20200511_190504_model_14    </td><td style=\"text-align: right;\">        308190          </td><td style=\"text-align: right;\"> 555.149</td><td style=\"text-align: right;\">308190          </td><td style=\"text-align: right;\"> 284.227</td><td style=\"text-align: right;\">  0.0984457</td></tr>\n",
       "<tr><td>XGBoost_grid__1_AutoML_20200511_190504_model_17    </td><td style=\"text-align: right;\">        308371          </td><td style=\"text-align: right;\"> 555.312</td><td style=\"text-align: right;\">308371          </td><td style=\"text-align: right;\"> 282.268</td><td style=\"text-align: right;\">  0.0959743</td></tr>\n",
       "<tr><td>GBM_grid__1_AutoML_20200511_190504_model_35        </td><td style=\"text-align: right;\">        308591          </td><td style=\"text-align: right;\"> 555.51 </td><td style=\"text-align: right;\">308591          </td><td style=\"text-align: right;\"> 279.646</td><td style=\"text-align: right;\">  0.0953334</td></tr>\n",
       "<tr><td>XGBoost_grid__1_AutoML_20200511_190504_model_15    </td><td style=\"text-align: right;\">        309020          </td><td style=\"text-align: right;\"> 555.896</td><td style=\"text-align: right;\">309020          </td><td style=\"text-align: right;\"> 295.925</td><td style=\"text-align: right;\">  0.110857 </td></tr>\n",
       "<tr><td>XGBoost_grid__1_AutoML_20200511_190504_model_29    </td><td style=\"text-align: right;\">        309084          </td><td style=\"text-align: right;\"> 555.954</td><td style=\"text-align: right;\">309084          </td><td style=\"text-align: right;\"> 294.475</td><td style=\"text-align: right;\">  0.111066 </td></tr>\n",
       "<tr><td>GBM_grid__1_AutoML_20200511_190504_model_6         </td><td style=\"text-align: right;\">        309526          </td><td style=\"text-align: right;\"> 556.351</td><td style=\"text-align: right;\">309526          </td><td style=\"text-align: right;\"> 281.978</td><td style=\"text-align: right;\">nan        </td></tr>\n",
       "<tr><td>XGBoost_grid__1_AutoML_20200511_190504_model_16    </td><td style=\"text-align: right;\">        309665          </td><td style=\"text-align: right;\"> 556.476</td><td style=\"text-align: right;\">309665          </td><td style=\"text-align: right;\"> 296.425</td><td style=\"text-align: right;\">nan        </td></tr>\n",
       "<tr><td>XGBoost_grid__1_AutoML_20200511_190504_model_12    </td><td style=\"text-align: right;\">        309869          </td><td style=\"text-align: right;\"> 556.658</td><td style=\"text-align: right;\">309869          </td><td style=\"text-align: right;\"> 287.628</td><td style=\"text-align: right;\">  0.101062 </td></tr>\n",
       "<tr><td>GBM_grid__1_AutoML_20200511_190504_model_3         </td><td style=\"text-align: right;\">        311011          </td><td style=\"text-align: right;\"> 557.683</td><td style=\"text-align: right;\">311011          </td><td style=\"text-align: right;\"> 287.558</td><td style=\"text-align: right;\">  0.103708 </td></tr>\n",
       "<tr><td>XGBoost_grid__1_AutoML_20200511_190504_model_20    </td><td style=\"text-align: right;\">        311431          </td><td style=\"text-align: right;\"> 558.06 </td><td style=\"text-align: right;\">311431          </td><td style=\"text-align: right;\"> 299.014</td><td style=\"text-align: right;\">nan        </td></tr>\n",
       "<tr><td>XGBoost_grid__1_AutoML_20200511_190504_model_8     </td><td style=\"text-align: right;\">        312139          </td><td style=\"text-align: right;\"> 558.694</td><td style=\"text-align: right;\">312139          </td><td style=\"text-align: right;\"> 282.79 </td><td style=\"text-align: right;\">nan        </td></tr>\n",
       "<tr><td>XGBoost_grid__1_AutoML_20200511_190504_model_27    </td><td style=\"text-align: right;\">        312699          </td><td style=\"text-align: right;\"> 559.195</td><td style=\"text-align: right;\">312699          </td><td style=\"text-align: right;\"> 294.308</td><td style=\"text-align: right;\">nan        </td></tr>\n",
       "<tr><td>XGBoost_grid__1_AutoML_20200511_190504_model_5     </td><td style=\"text-align: right;\">        313691          </td><td style=\"text-align: right;\"> 560.081</td><td style=\"text-align: right;\">313691          </td><td style=\"text-align: right;\"> 286.661</td><td style=\"text-align: right;\">  0.100369 </td></tr>\n",
       "<tr><td>XGBoost_grid__1_AutoML_20200511_190504_model_28    </td><td style=\"text-align: right;\">        313933          </td><td style=\"text-align: right;\"> 560.297</td><td style=\"text-align: right;\">313933          </td><td style=\"text-align: right;\"> 285.658</td><td style=\"text-align: right;\">  0.106509 </td></tr>\n",
       "<tr><td>XGBoost_grid__1_AutoML_20200511_190504_model_13    </td><td style=\"text-align: right;\">        314530          </td><td style=\"text-align: right;\"> 560.83 </td><td style=\"text-align: right;\">314530          </td><td style=\"text-align: right;\"> 298.843</td><td style=\"text-align: right;\">nan        </td></tr>\n",
       "<tr><td>XGBoost_grid__1_AutoML_20200511_190504_model_11    </td><td style=\"text-align: right;\">        315156          </td><td style=\"text-align: right;\"> 561.388</td><td style=\"text-align: right;\">315156          </td><td style=\"text-align: right;\"> 298.897</td><td style=\"text-align: right;\">  0.112471 </td></tr>\n",
       "<tr><td>XGBoost_grid__1_AutoML_20200511_190504_model_7     </td><td style=\"text-align: right;\">        316042          </td><td style=\"text-align: right;\"> 562.176</td><td style=\"text-align: right;\">316042          </td><td style=\"text-align: right;\"> 298.133</td><td style=\"text-align: right;\">nan        </td></tr>\n",
       "<tr><td>XGBoost_grid__1_AutoML_20200511_190504_model_34    </td><td style=\"text-align: right;\">        316986          </td><td style=\"text-align: right;\"> 563.015</td><td style=\"text-align: right;\">316986          </td><td style=\"text-align: right;\"> 283.959</td><td style=\"text-align: right;\">  0.0931481</td></tr>\n",
       "<tr><td>GBM_grid__1_AutoML_20200511_190504_model_27        </td><td style=\"text-align: right;\">        317441          </td><td style=\"text-align: right;\"> 563.419</td><td style=\"text-align: right;\">317441          </td><td style=\"text-align: right;\"> 290.829</td><td style=\"text-align: right;\">nan        </td></tr>\n",
       "<tr><td>XGBoost_grid__1_AutoML_20200511_190504_model_31    </td><td style=\"text-align: right;\">        317821          </td><td style=\"text-align: right;\"> 563.756</td><td style=\"text-align: right;\">317821          </td><td style=\"text-align: right;\"> 301.209</td><td style=\"text-align: right;\">  0.112825 </td></tr>\n",
       "<tr><td>XGBoost_grid__1_AutoML_20200511_190504_model_25    </td><td style=\"text-align: right;\">        318087          </td><td style=\"text-align: right;\"> 563.992</td><td style=\"text-align: right;\">318087          </td><td style=\"text-align: right;\"> 284.295</td><td style=\"text-align: right;\">  0.0933235</td></tr>\n",
       "<tr><td>XGBoost_grid__1_AutoML_20200511_190504_model_18    </td><td style=\"text-align: right;\">        321269          </td><td style=\"text-align: right;\"> 566.806</td><td style=\"text-align: right;\">321269          </td><td style=\"text-align: right;\"> 292.756</td><td style=\"text-align: right;\">nan        </td></tr>\n",
       "<tr><td>GBM_grid__1_AutoML_20200511_190504_model_23        </td><td style=\"text-align: right;\">        321726          </td><td style=\"text-align: right;\"> 567.209</td><td style=\"text-align: right;\">321726          </td><td style=\"text-align: right;\"> 291.295</td><td style=\"text-align: right;\">nan        </td></tr>\n",
       "<tr><td>XGBoost_grid__1_AutoML_20200511_190504_model_6     </td><td style=\"text-align: right;\">        321923          </td><td style=\"text-align: right;\"> 567.383</td><td style=\"text-align: right;\">321923          </td><td style=\"text-align: right;\"> 305.562</td><td style=\"text-align: right;\">  0.116934 </td></tr>\n",
       "<tr><td>GBM_grid__1_AutoML_20200511_190504_model_34        </td><td style=\"text-align: right;\">        322303          </td><td style=\"text-align: right;\"> 567.718</td><td style=\"text-align: right;\">322303          </td><td style=\"text-align: right;\"> 287.658</td><td style=\"text-align: right;\">nan        </td></tr>\n",
       "<tr><td>XGBoost_grid__1_AutoML_20200511_190504_model_9     </td><td style=\"text-align: right;\">        322333          </td><td style=\"text-align: right;\"> 567.743</td><td style=\"text-align: right;\">322333          </td><td style=\"text-align: right;\"> 288.307</td><td style=\"text-align: right;\">  0.0971561</td></tr>\n",
       "<tr><td>GBM_grid__1_AutoML_20200511_190504_model_14        </td><td style=\"text-align: right;\">        326128          </td><td style=\"text-align: right;\"> 571.076</td><td style=\"text-align: right;\">326128          </td><td style=\"text-align: right;\"> 309.381</td><td style=\"text-align: right;\">nan        </td></tr>\n",
       "<tr><td>XGBoost_grid__1_AutoML_20200511_190504_model_21    </td><td style=\"text-align: right;\">        326169          </td><td style=\"text-align: right;\"> 571.112</td><td style=\"text-align: right;\">326169          </td><td style=\"text-align: right;\"> 304.1  </td><td style=\"text-align: right;\">nan        </td></tr>\n",
       "<tr><td>XGBoost_grid__1_AutoML_20200511_190504_model_10    </td><td style=\"text-align: right;\">        326374          </td><td style=\"text-align: right;\"> 571.292</td><td style=\"text-align: right;\">326374          </td><td style=\"text-align: right;\"> 306.513</td><td style=\"text-align: right;\">nan        </td></tr>\n",
       "<tr><td>XGBoost_grid__1_AutoML_20200511_190504_model_1     </td><td style=\"text-align: right;\">        326549          </td><td style=\"text-align: right;\"> 571.444</td><td style=\"text-align: right;\">326549          </td><td style=\"text-align: right;\"> 302.94 </td><td style=\"text-align: right;\">  0.111245 </td></tr>\n",
       "<tr><td>GBM_grid__1_AutoML_20200511_190504_model_9         </td><td style=\"text-align: right;\">        328596          </td><td style=\"text-align: right;\"> 573.233</td><td style=\"text-align: right;\">328596          </td><td style=\"text-align: right;\"> 304.807</td><td style=\"text-align: right;\">nan        </td></tr>\n",
       "<tr><td>XGBoost_grid__1_AutoML_20200511_190504_model_2     </td><td style=\"text-align: right;\">        329204          </td><td style=\"text-align: right;\"> 573.763</td><td style=\"text-align: right;\">329204          </td><td style=\"text-align: right;\"> 309.322</td><td style=\"text-align: right;\">nan        </td></tr>\n",
       "<tr><td>XGBoost_1_AutoML_20200511_190504                   </td><td style=\"text-align: right;\">        331797          </td><td style=\"text-align: right;\"> 576.019</td><td style=\"text-align: right;\">331797          </td><td style=\"text-align: right;\"> 293.316</td><td style=\"text-align: right;\">nan        </td></tr>\n",
       "<tr><td>GBM_grid__1_AutoML_20200511_190504_model_17        </td><td style=\"text-align: right;\">        332273          </td><td style=\"text-align: right;\"> 576.431</td><td style=\"text-align: right;\">332273          </td><td style=\"text-align: right;\"> 300.49 </td><td style=\"text-align: right;\">  0.117835 </td></tr>\n",
       "<tr><td>GBM_grid__1_AutoML_20200511_190504_model_33        </td><td style=\"text-align: right;\">        334382          </td><td style=\"text-align: right;\"> 578.257</td><td style=\"text-align: right;\">334382          </td><td style=\"text-align: right;\"> 302.528</td><td style=\"text-align: right;\">nan        </td></tr>\n",
       "<tr><td>XGBoost_grid__1_AutoML_20200511_190504_model_30    </td><td style=\"text-align: right;\">        338583          </td><td style=\"text-align: right;\"> 581.879</td><td style=\"text-align: right;\">338583          </td><td style=\"text-align: right;\"> 291.563</td><td style=\"text-align: right;\">  0.0952833</td></tr>\n",
       "<tr><td>XRT_1_AutoML_20200511_190504                       </td><td style=\"text-align: right;\">        342099          </td><td style=\"text-align: right;\"> 584.892</td><td style=\"text-align: right;\">342099          </td><td style=\"text-align: right;\"> 296.611</td><td style=\"text-align: right;\">  0.100234 </td></tr>\n",
       "<tr><td>XGBoost_3_AutoML_20200511_190504                   </td><td style=\"text-align: right;\">        342216          </td><td style=\"text-align: right;\"> 584.993</td><td style=\"text-align: right;\">342216          </td><td style=\"text-align: right;\"> 320.52 </td><td style=\"text-align: right;\">  0.120975 </td></tr>\n",
       "<tr><td>DRF_1_AutoML_20200511_190504                       </td><td style=\"text-align: right;\">        347151          </td><td style=\"text-align: right;\"> 589.195</td><td style=\"text-align: right;\">347151          </td><td style=\"text-align: right;\"> 296.136</td><td style=\"text-align: right;\">  0.0990549</td></tr>\n",
       "<tr><td>GBM_grid__1_AutoML_20200511_190504_model_12        </td><td style=\"text-align: right;\">        347297          </td><td style=\"text-align: right;\"> 589.319</td><td style=\"text-align: right;\">347297          </td><td style=\"text-align: right;\"> 309.285</td><td style=\"text-align: right;\">  0.123599 </td></tr>\n",
       "<tr><td>XGBoost_2_AutoML_20200511_190504                   </td><td style=\"text-align: right;\">        351966          </td><td style=\"text-align: right;\"> 593.267</td><td style=\"text-align: right;\">351966          </td><td style=\"text-align: right;\"> 299.733</td><td style=\"text-align: right;\">nan        </td></tr>\n",
       "<tr><td>XGBoost_grid__1_AutoML_20200511_190504_model_24    </td><td style=\"text-align: right;\">        352449          </td><td style=\"text-align: right;\"> 593.674</td><td style=\"text-align: right;\">352449          </td><td style=\"text-align: right;\"> 305.642</td><td style=\"text-align: right;\">nan        </td></tr>\n",
       "<tr><td>XGBoost_grid__1_AutoML_20200511_190504_model_4     </td><td style=\"text-align: right;\">        353267          </td><td style=\"text-align: right;\"> 594.363</td><td style=\"text-align: right;\">353267          </td><td style=\"text-align: right;\"> 296.095</td><td style=\"text-align: right;\">  0.0975028</td></tr>\n",
       "<tr><td>XGBoost_grid__1_AutoML_20200511_190504_model_3     </td><td style=\"text-align: right;\">        353294          </td><td style=\"text-align: right;\"> 594.386</td><td style=\"text-align: right;\">353294          </td><td style=\"text-align: right;\"> 299.085</td><td style=\"text-align: right;\">nan        </td></tr>\n",
       "<tr><td>GBM_grid__1_AutoML_20200511_190504_model_1         </td><td style=\"text-align: right;\">        368247          </td><td style=\"text-align: right;\"> 606.834</td><td style=\"text-align: right;\">368247          </td><td style=\"text-align: right;\"> 335.35 </td><td style=\"text-align: right;\">nan        </td></tr>\n",
       "<tr><td>XGBoost_grid__1_AutoML_20200511_190504_model_26    </td><td style=\"text-align: right;\">        407940          </td><td style=\"text-align: right;\"> 638.702</td><td style=\"text-align: right;\">407940          </td><td style=\"text-align: right;\"> 318.326</td><td style=\"text-align: right;\">  0.104695 </td></tr>\n",
       "<tr><td>XGBoost_grid__1_AutoML_20200511_190504_model_32    </td><td style=\"text-align: right;\">        415694          </td><td style=\"text-align: right;\"> 644.743</td><td style=\"text-align: right;\">415694          </td><td style=\"text-align: right;\"> 325.924</td><td style=\"text-align: right;\">  0.105443 </td></tr>\n",
       "<tr><td>GBM_grid__1_AutoML_20200511_190504_model_30        </td><td style=\"text-align: right;\">        418922          </td><td style=\"text-align: right;\"> 647.242</td><td style=\"text-align: right;\">418922          </td><td style=\"text-align: right;\"> 359.067</td><td style=\"text-align: right;\">nan        </td></tr>\n",
       "<tr><td>GBM_grid__1_AutoML_20200511_190504_model_32        </td><td style=\"text-align: right;\">        421752          </td><td style=\"text-align: right;\"> 649.425</td><td style=\"text-align: right;\">421752          </td><td style=\"text-align: right;\"> 354.757</td><td style=\"text-align: right;\">nan        </td></tr>\n",
       "<tr><td>GBM_grid__1_AutoML_20200511_190504_model_16        </td><td style=\"text-align: right;\">        441783          </td><td style=\"text-align: right;\"> 664.667</td><td style=\"text-align: right;\">441783          </td><td style=\"text-align: right;\"> 359.291</td><td style=\"text-align: right;\">nan        </td></tr>\n",
       "<tr><td>GBM_grid__1_AutoML_20200511_190504_model_11        </td><td style=\"text-align: right;\">        443348          </td><td style=\"text-align: right;\"> 665.844</td><td style=\"text-align: right;\">443348          </td><td style=\"text-align: right;\"> 364.12 </td><td style=\"text-align: right;\">nan        </td></tr>\n",
       "<tr><td>GBM_grid__1_AutoML_20200511_190504_model_20        </td><td style=\"text-align: right;\">        464143          </td><td style=\"text-align: right;\"> 681.28 </td><td style=\"text-align: right;\">464143          </td><td style=\"text-align: right;\"> 359.378</td><td style=\"text-align: right;\">nan        </td></tr>\n",
       "<tr><td>GBM_grid__1_AutoML_20200511_190504_model_18        </td><td style=\"text-align: right;\">        464180          </td><td style=\"text-align: right;\"> 681.308</td><td style=\"text-align: right;\">464180          </td><td style=\"text-align: right;\"> 366.042</td><td style=\"text-align: right;\">nan        </td></tr>\n",
       "<tr><td>DeepLearning_1_AutoML_20200511_190504              </td><td style=\"text-align: right;\">        497980          </td><td style=\"text-align: right;\"> 705.677</td><td style=\"text-align: right;\">497980          </td><td style=\"text-align: right;\"> 414.786</td><td style=\"text-align: right;\">nan        </td></tr>\n",
       "<tr><td>GBM_grid__1_AutoML_20200511_190504_model_22        </td><td style=\"text-align: right;\">        503485          </td><td style=\"text-align: right;\"> 709.567</td><td style=\"text-align: right;\">503485          </td><td style=\"text-align: right;\"> 367.096</td><td style=\"text-align: right;\">  0.116206 </td></tr>\n",
       "<tr><td>DeepLearning_grid__1_AutoML_20200511_190504_model_1</td><td style=\"text-align: right;\">        542839          </td><td style=\"text-align: right;\"> 736.776</td><td style=\"text-align: right;\">542839          </td><td style=\"text-align: right;\"> 448.069</td><td style=\"text-align: right;\">nan        </td></tr>\n",
       "<tr><td>XGBoost_grid__1_AutoML_20200511_190504_model_19    </td><td style=\"text-align: right;\">        543029          </td><td style=\"text-align: right;\"> 736.905</td><td style=\"text-align: right;\">543029          </td><td style=\"text-align: right;\"> 390.267</td><td style=\"text-align: right;\">  0.122809 </td></tr>\n",
       "<tr><td>GBM_grid__1_AutoML_20200511_190504_model_13        </td><td style=\"text-align: right;\">        563545          </td><td style=\"text-align: right;\"> 750.696</td><td style=\"text-align: right;\">563545          </td><td style=\"text-align: right;\"> 397.786</td><td style=\"text-align: right;\">nan        </td></tr>\n",
       "<tr><td>XGBoost_grid__1_AutoML_20200511_190504_model_22    </td><td style=\"text-align: right;\">        650921          </td><td style=\"text-align: right;\"> 806.797</td><td style=\"text-align: right;\">650921          </td><td style=\"text-align: right;\"> 421.995</td><td style=\"text-align: right;\">  0.138156 </td></tr>\n",
       "<tr><td>GBM_grid__1_AutoML_20200511_190504_model_15        </td><td style=\"text-align: right;\">        665320          </td><td style=\"text-align: right;\"> 815.672</td><td style=\"text-align: right;\">665320          </td><td style=\"text-align: right;\"> 425.296</td><td style=\"text-align: right;\">  0.149583 </td></tr>\n",
       "<tr><td>GBM_grid__1_AutoML_20200511_190504_model_25        </td><td style=\"text-align: right;\">        684195          </td><td style=\"text-align: right;\"> 827.161</td><td style=\"text-align: right;\">684195          </td><td style=\"text-align: right;\"> 425.612</td><td style=\"text-align: right;\">nan        </td></tr>\n",
       "<tr><td>XGBoost_grid__1_AutoML_20200511_190504_model_33    </td><td style=\"text-align: right;\">        702730          </td><td style=\"text-align: right;\"> 838.29 </td><td style=\"text-align: right;\">702730          </td><td style=\"text-align: right;\"> 433.921</td><td style=\"text-align: right;\">  0.132643 </td></tr>\n",
       "<tr><td>DeepLearning_grid__1_AutoML_20200511_190504_model_2</td><td style=\"text-align: right;\">        709502          </td><td style=\"text-align: right;\"> 842.32 </td><td style=\"text-align: right;\">709502          </td><td style=\"text-align: right;\"> 447.767</td><td style=\"text-align: right;\">nan        </td></tr>\n",
       "<tr><td>GBM_grid__1_AutoML_20200511_190504_model_36        </td><td style=\"text-align: right;\">        862114          </td><td style=\"text-align: right;\"> 928.501</td><td style=\"text-align: right;\">862114          </td><td style=\"text-align: right;\"> 514.015</td><td style=\"text-align: right;\">nan        </td></tr>\n",
       "<tr><td>DeepLearning_grid__2_AutoML_20200511_190504_model_1</td><td style=\"text-align: right;\">             1.26439e+06</td><td style=\"text-align: right;\">1124.45 </td><td style=\"text-align: right;\">     1.26439e+06</td><td style=\"text-align: right;\"> 815.861</td><td style=\"text-align: right;\">nan        </td></tr>\n",
       "<tr><td>DeepLearning_grid__3_AutoML_20200511_190504_model_2</td><td style=\"text-align: right;\">             1.65495e+06</td><td style=\"text-align: right;\">1286.45 </td><td style=\"text-align: right;\">     1.65495e+06</td><td style=\"text-align: right;\">1004.39 </td><td style=\"text-align: right;\">nan        </td></tr>\n",
       "<tr><td>DeepLearning_grid__3_AutoML_20200511_190504_model_1</td><td style=\"text-align: right;\">             1.75503e+06</td><td style=\"text-align: right;\">1324.77 </td><td style=\"text-align: right;\">     1.75503e+06</td><td style=\"text-align: right;\">1100.87 </td><td style=\"text-align: right;\">nan        </td></tr>\n",
       "<tr><td>DeepLearning_grid__2_AutoML_20200511_190504_model_2</td><td style=\"text-align: right;\">             2.22806e+06</td><td style=\"text-align: right;\">1492.67 </td><td style=\"text-align: right;\">     2.22806e+06</td><td style=\"text-align: right;\">1231.15 </td><td style=\"text-align: right;\">  0.718487 </td></tr>\n",
       "<tr><td>GLM_1_AutoML_20200511_190504                       </td><td style=\"text-align: right;\">             1.58248e+07</td><td style=\"text-align: right;\">3978.03 </td><td style=\"text-align: right;\">     1.58248e+07</td><td style=\"text-align: right;\">3027.92 </td><td style=\"text-align: right;\">  1.12509  </td></tr>\n",
       "</tbody>\n",
       "</table>"
      ]
     },
     "metadata": {},
     "output_type": "display_data"
    },
    {
     "data": {
      "text/plain": []
     },
     "execution_count": 85,
     "metadata": {},
     "output_type": "execute_result"
    }
   ],
   "source": [
    "lb = aml.leaderboard\n",
    "lb.head(rows=lb.nrows)"
   ]
  },
  {
   "cell_type": "code",
   "execution_count": 86,
   "metadata": {},
   "outputs": [
    {
     "name": "stdout",
     "output_type": "stream",
     "text": [
      "Model Details\n",
      "=============\n",
      "H2OStackedEnsembleEstimator :  Stacked Ensemble\n",
      "Model Key:  StackedEnsemble_AllModels_AutoML_20200511_190504\n",
      "\n",
      "No model summary for this model\n",
      "\n",
      "ModelMetricsRegressionGLM: stackedensemble\n",
      "** Reported on train data. **\n",
      "\n",
      "MSE: 193669.96943699953\n",
      "RMSE: 440.07950354112097\n",
      "MAE: 237.29442693662838\n",
      "RMSLE: 0.09200751941573657\n",
      "R^2: 0.9877616234038199\n",
      "Mean Residual Deviance: 193669.96943699953\n",
      "Null degrees of freedom: 32389\n",
      "Residual degrees of freedom: 32377\n",
      "Null deviance: 512565556449.8945\n",
      "Residual deviance: 6272970310.064415\n",
      "AIC: 486259.8090225412\n",
      "\n",
      "ModelMetricsRegressionGLM: stackedensemble\n",
      "** Reported on cross-validation data. **\n",
      "\n",
      "MSE: 284058.8724876938\n",
      "RMSE: 532.9717370439954\n",
      "MAE: 272.8441730954824\n",
      "RMSLE: 0.09821666547882263\n",
      "R^2: 0.9820497753621964\n",
      "Mean Residual Deviance: 284058.8724876938\n",
      "Null degrees of freedom: 32389\n",
      "Residual degrees of freedom: 32376\n",
      "Null deviance: 512617094235.09143\n",
      "Residual deviance: 9200666879.876402\n",
      "AIC: 498668.0209111941\n"
     ]
    },
    {
     "data": {
      "text/plain": []
     },
     "execution_count": 86,
     "metadata": {},
     "output_type": "execute_result"
    }
   ],
   "source": [
    "aml.leader"
   ]
  },
  {
   "cell_type": "markdown",
   "metadata": {},
   "source": [
    "Save the model:"
   ]
  },
  {
   "cell_type": "code",
   "execution_count": 119,
   "metadata": {},
   "outputs": [],
   "source": [
    "model_saved = h2o.save_model(model=aml.leader, path=\"../OUTPUT/mymodelh2o\", force=True)"
   ]
  },
  {
   "cell_type": "markdown",
   "metadata": {},
   "source": [
    "Prepare test data:"
   ]
  },
  {
   "cell_type": "code",
   "execution_count": 94,
   "metadata": {},
   "outputs": [],
   "source": [
    "test = pd.read_csv('./INPUT/diamonds_test.csv') \n",
    "\n",
    "features = ['carat','table','depth', 'x', 'y', 'z']\n",
    "\n",
    "\n",
    "new_df = pd.DataFrame()\n",
    "for e in features:\n",
    "    name = e + '_log'\n",
    "    new_df[name] = test[e].apply(lambda x: np.log1p(x))\n",
    "new_test = test.drop(features, axis=1).reset_index(drop=True)\n",
    "test_clean = pd.concat([new_test, new_df], axis=1, sort=False)\n",
    "\n",
    "#Categories to numericals:\n",
    "test_clean.replace({'Premium': 1, 'Ideal': 2, 'Very Good':3, 'Good':4, 'Fair':5}, inplace=True)\n",
    "test_clean.replace({'D':1, 'E':2, 'F':3, 'G':4, 'H':5, 'I':6, 'J':7}, inplace=True)\n",
    "test_clean.replace({'IF':1, 'VVS1':2, 'VVS2':3, 'VS1':4, 'VS2':5, 'SI1':6, 'SI2':7, 'I1':8}, inplace=True)\n",
    "\n",
    "#Standardize columns:\n",
    "test_clean = fn.standardize(test_clean,['carat_log','table_log','x_log','y_log'] )\n",
    "\n",
    "#Unuseful columns\n",
    "test_clean.drop(['Unnamed: 0','depth_log','z_log'], axis= 1, inplace=True)"
   ]
  },
  {
   "cell_type": "markdown",
   "metadata": {},
   "source": [
    "Parse to h2o object"
   ]
  },
  {
   "cell_type": "code",
   "execution_count": 95,
   "metadata": {},
   "outputs": [
    {
     "name": "stdout",
     "output_type": "stream",
     "text": [
      "Parse progress: |█████████████████████████████████████████████████████████| 100%\n"
     ]
    }
   ],
   "source": [
    "testh2o = h2o.H2OFrame(test_test)\n"
   ]
  },
  {
   "cell_type": "code",
   "execution_count": 96,
   "metadata": {},
   "outputs": [
    {
     "name": "stdout",
     "output_type": "stream",
     "text": [
      "stackedensemble prediction progress: |████████████████████████████████████| 100%\n"
     ]
    }
   ],
   "source": [
    "preds = aml.leader.predict(testh2o)\n"
   ]
  },
  {
   "cell_type": "markdown",
   "metadata": {},
   "source": [
    "Prepare the predictions to a csv:"
   ]
  },
  {
   "cell_type": "code",
   "execution_count": 112,
   "metadata": {},
   "outputs": [],
   "source": [
    "preds_df = h2o.as_list(preds)"
   ]
  },
  {
   "cell_type": "code",
   "execution_count": 113,
   "metadata": {},
   "outputs": [],
   "source": [
    "predict = pd.DataFrame({'id':list(range(len(test))), 'price':preds_df['predict']})"
   ]
  },
  {
   "cell_type": "code",
   "execution_count": 118,
   "metadata": {},
   "outputs": [],
   "source": [
    "predict.to_csv('./OUTPUT/submission.csv', index=False)"
   ]
  },
  {
   "cell_type": "code",
   "execution_count": null,
   "metadata": {},
   "outputs": [],
   "source": []
  }
 ],
 "metadata": {
  "kernelspec": {
   "display_name": "Python 3.6.9 64-bit",
   "language": "python",
   "name": "python36964bit36b15ce491344c3aaf77177bbb6e80c7"
  },
  "language_info": {
   "codemirror_mode": {
    "name": "ipython",
    "version": 3
   },
   "file_extension": ".py",
   "mimetype": "text/x-python",
   "name": "python",
   "nbconvert_exporter": "python",
   "pygments_lexer": "ipython3",
   "version": "3.6.9"
  }
 },
 "nbformat": 4,
 "nbformat_minor": 2
}
